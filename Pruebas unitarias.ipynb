{
 "cells": [
  {
   "cell_type": "code",
   "execution_count": 33,
   "metadata": {},
   "outputs": [],
   "source": [
    "from keras.models import Sequential\n",
    "import keras.layers\n",
    "from keras.callbacks import EarlyStopping, History\n",
    "import pandas as pd\n",
    "import numpy as np\n",
    "import seaborn as sns\n",
    "import matplotlib.pyplot as plt\n",
    "from keras.preprocessing import sequence\n",
    "from keras.layers import Dense, Dropout, Activation\n",
    "from keras.layers import Embedding\n",
    "from keras.layers import LSTM\n",
    "from keras.layers import Flatten\n",
    "from keras.layers import Conv1D, MaxPooling1D, GlobalMaxPooling1D"
   ]
  },
  {
   "cell_type": "code",
   "execution_count": 34,
   "metadata": {},
   "outputs": [],
   "source": [
    "#Extraemos los datos\n",
    "dataset = pd.read_csv('sequences.txt', sep=\",\")"
   ]
  },
  {
   "cell_type": "code",
   "execution_count": 35,
   "metadata": {},
   "outputs": [
    {
     "data": {
      "text/html": [
       "<div>\n",
       "<style scoped>\n",
       "    .dataframe tbody tr th:only-of-type {\n",
       "        vertical-align: middle;\n",
       "    }\n",
       "\n",
       "    .dataframe tbody tr th {\n",
       "        vertical-align: top;\n",
       "    }\n",
       "\n",
       "    .dataframe thead th {\n",
       "        text-align: right;\n",
       "    }\n",
       "</style>\n",
       "<table border=\"1\" class=\"dataframe\">\n",
       "  <thead>\n",
       "    <tr style=\"text-align: right;\">\n",
       "      <th></th>\n",
       "      <th>sequence</th>\n",
       "      <th>Bound</th>\n",
       "    </tr>\n",
       "  </thead>\n",
       "  <tbody>\n",
       "    <tr>\n",
       "      <th>0</th>\n",
       "      <td>CAATCTTTCCTAGCAACTGTTGTCATTGCTGCTGGACTTTAGAACT...</td>\n",
       "      <td>1</td>\n",
       "    </tr>\n",
       "    <tr>\n",
       "      <th>1</th>\n",
       "      <td>TCAGATTTCAATTTAGACATCTATTGCCTCAATGTTTGCTGTGAGG...</td>\n",
       "      <td>1</td>\n",
       "    </tr>\n",
       "    <tr>\n",
       "      <th>2</th>\n",
       "      <td>CGCCTGATTAGGGGTCGTCATCAGTCCGCGCACCCTGCCTGTACTT...</td>\n",
       "      <td>1</td>\n",
       "    </tr>\n",
       "    <tr>\n",
       "      <th>3</th>\n",
       "      <td>CTGGAGGAAGTAAATCATCAAGCTGTAAGTTACACAATGCATGTGT...</td>\n",
       "      <td>1</td>\n",
       "    </tr>\n",
       "    <tr>\n",
       "      <th>4</th>\n",
       "      <td>TTGTTTTCAGAGCAGATGGGCTTGTTTGCTTTTTGCTTAAACATTA...</td>\n",
       "      <td>1</td>\n",
       "    </tr>\n",
       "  </tbody>\n",
       "</table>\n",
       "</div>"
      ],
      "text/plain": [
       "                                            sequence  Bound\n",
       "0  CAATCTTTCCTAGCAACTGTTGTCATTGCTGCTGGACTTTAGAACT...      1\n",
       "1  TCAGATTTCAATTTAGACATCTATTGCCTCAATGTTTGCTGTGAGG...      1\n",
       "2  CGCCTGATTAGGGGTCGTCATCAGTCCGCGCACCCTGCCTGTACTT...      1\n",
       "3  CTGGAGGAAGTAAATCATCAAGCTGTAAGTTACACAATGCATGTGT...      1\n",
       "4  TTGTTTTCAGAGCAGATGGGCTTGTTTGCTTTTTGCTTAAACATTA...      1"
      ]
     },
     "execution_count": 35,
     "metadata": {},
     "output_type": "execute_result"
    }
   ],
   "source": [
    "dataset.head()"
   ]
  },
  {
   "cell_type": "code",
   "execution_count": 36,
   "metadata": {},
   "outputs": [
    {
     "data": {
      "text/html": [
       "<div>\n",
       "<style scoped>\n",
       "    .dataframe tbody tr th:only-of-type {\n",
       "        vertical-align: middle;\n",
       "    }\n",
       "\n",
       "    .dataframe tbody tr th {\n",
       "        vertical-align: top;\n",
       "    }\n",
       "\n",
       "    .dataframe thead th {\n",
       "        text-align: right;\n",
       "    }\n",
       "</style>\n",
       "<table border=\"1\" class=\"dataframe\">\n",
       "  <thead>\n",
       "    <tr style=\"text-align: right;\">\n",
       "      <th></th>\n",
       "      <th>sequence</th>\n",
       "      <th>Bound</th>\n",
       "    </tr>\n",
       "  </thead>\n",
       "  <tbody>\n",
       "    <tr>\n",
       "      <th>0</th>\n",
       "      <td>CAATCTTTCCTAGCAACTGTTGTCATTGCTGCTGGACTTTAGAACT...</td>\n",
       "      <td>1</td>\n",
       "    </tr>\n",
       "    <tr>\n",
       "      <th>1</th>\n",
       "      <td>TCAGATTTCAATTTAGACATCTATTGCCTCAATGTTTGCTGTGAGG...</td>\n",
       "      <td>1</td>\n",
       "    </tr>\n",
       "    <tr>\n",
       "      <th>2</th>\n",
       "      <td>CGCCTGATTAGGGGTCGTCATCAGTCCGCGCACCCTGCCTGTACTT...</td>\n",
       "      <td>1</td>\n",
       "    </tr>\n",
       "    <tr>\n",
       "      <th>3</th>\n",
       "      <td>CTGGAGGAAGTAAATCATCAAGCTGTAAGTTACACAATGCATGTGT...</td>\n",
       "      <td>1</td>\n",
       "    </tr>\n",
       "    <tr>\n",
       "      <th>4</th>\n",
       "      <td>TTGTTTTCAGAGCAGATGGGCTTGTTTGCTTTTTGCTTAAACATTA...</td>\n",
       "      <td>1</td>\n",
       "    </tr>\n",
       "    <tr>\n",
       "      <th>...</th>\n",
       "      <td>...</td>\n",
       "      <td>...</td>\n",
       "    </tr>\n",
       "    <tr>\n",
       "      <th>502995</th>\n",
       "      <td>ATCTGATTTGGTGGCTCTGTCTGAGTGACTCATACTTACCAGGGTC...</td>\n",
       "      <td>0</td>\n",
       "    </tr>\n",
       "    <tr>\n",
       "      <th>502996</th>\n",
       "      <td>ATTTCCACTATTGCCTTCAAGTAGTACTTCCATGCTAAGCTGACAT...</td>\n",
       "      <td>0</td>\n",
       "    </tr>\n",
       "    <tr>\n",
       "      <th>502997</th>\n",
       "      <td>ATAAGTATGTATATATAATACACTATTATATTATATGTCAAAAATA...</td>\n",
       "      <td>0</td>\n",
       "    </tr>\n",
       "    <tr>\n",
       "      <th>502998</th>\n",
       "      <td>CTAGTCAGGATGGTGCAATGCTGTTTGGGAGTTGAATTGCCTGTGA...</td>\n",
       "      <td>0</td>\n",
       "    </tr>\n",
       "    <tr>\n",
       "      <th>502999</th>\n",
       "      <td>TGTCTCAATAGGTGCTTTGCTTCCTCCTACCTTTTTTCCCTCTGTA...</td>\n",
       "      <td>0</td>\n",
       "    </tr>\n",
       "  </tbody>\n",
       "</table>\n",
       "<p>503000 rows × 2 columns</p>\n",
       "</div>"
      ],
      "text/plain": [
       "                                                 sequence  Bound\n",
       "0       CAATCTTTCCTAGCAACTGTTGTCATTGCTGCTGGACTTTAGAACT...      1\n",
       "1       TCAGATTTCAATTTAGACATCTATTGCCTCAATGTTTGCTGTGAGG...      1\n",
       "2       CGCCTGATTAGGGGTCGTCATCAGTCCGCGCACCCTGCCTGTACTT...      1\n",
       "3       CTGGAGGAAGTAAATCATCAAGCTGTAAGTTACACAATGCATGTGT...      1\n",
       "4       TTGTTTTCAGAGCAGATGGGCTTGTTTGCTTTTTGCTTAAACATTA...      1\n",
       "...                                                   ...    ...\n",
       "502995  ATCTGATTTGGTGGCTCTGTCTGAGTGACTCATACTTACCAGGGTC...      0\n",
       "502996  ATTTCCACTATTGCCTTCAAGTAGTACTTCCATGCTAAGCTGACAT...      0\n",
       "502997  ATAAGTATGTATATATAATACACTATTATATTATATGTCAAAAATA...      0\n",
       "502998  CTAGTCAGGATGGTGCAATGCTGTTTGGGAGTTGAATTGCCTGTGA...      0\n",
       "502999  TGTCTCAATAGGTGCTTTGCTTCCTCCTACCTTTTTTCCCTCTGTA...      0\n",
       "\n",
       "[503000 rows x 2 columns]"
      ]
     },
     "execution_count": 36,
     "metadata": {},
     "output_type": "execute_result"
    }
   ],
   "source": [
    "dataset"
   ]
  },
  {
   "cell_type": "code",
   "execution_count": 37,
   "metadata": {},
   "outputs": [],
   "source": [
    "x = dataset['sequence'].astype(str).tolist()\n",
    "y = dataset['Bound']"
   ]
  },
  {
   "cell_type": "code",
   "execution_count": 38,
   "metadata": {},
   "outputs": [],
   "source": [
    "def onehot_encode_sequences(sequences):\n",
    "    onehot = []\n",
    "    mapping = {'A': 0, 'C': 1, 'G': 2, 'T': 3}\n",
    "    for sequence in sequences:\n",
    "        arr = np.zeros((len(sequence), 4)).astype(\"float\")\n",
    "        for (i, letter) in enumerate(sequence):\n",
    "            arr[i, mapping[letter]] = 1.0\n",
    "        onehot.append(arr)\n",
    "    return onehot\n",
    "\n",
    "x_one_hot = onehot_encode_sequences(x)"
   ]
  },
  {
   "cell_type": "code",
   "execution_count": 39,
   "metadata": {},
   "outputs": [],
   "source": [
    "x_final = np.array(list(x for x in x_one_hot))"
   ]
  },
  {
   "cell_type": "code",
   "execution_count": 40,
   "metadata": {},
   "outputs": [
    {
     "data": {
      "text/plain": [
       "(503000, 101, 4)"
      ]
     },
     "execution_count": 40,
     "metadata": {},
     "output_type": "execute_result"
    }
   ],
   "source": [
    "x_final.shape"
   ]
  },
  {
   "cell_type": "code",
   "execution_count": 41,
   "metadata": {},
   "outputs": [
    {
     "data": {
      "text/plain": [
       "(503000,)"
      ]
     },
     "execution_count": 41,
     "metadata": {},
     "output_type": "execute_result"
    }
   ],
   "source": [
    "y.shape"
   ]
  },
  {
   "cell_type": "code",
   "execution_count": 42,
   "metadata": {},
   "outputs": [],
   "source": [
    "from sklearn.model_selection import train_test_split\n",
    "x_train, x_test, y_train, y_test = train_test_split(x_final, y, test_size=0.2, random_state=0, stratify=y)"
   ]
  },
  {
   "cell_type": "code",
   "execution_count": 69,
   "metadata": {},
   "outputs": [],
   "source": [
    "#Modelo CNN\n",
    "model_CNN = Sequential([Conv1D(filters=16, kernel_size=15, activation='relu', input_shape=x_train.shape[1:]),\n",
    "                    MaxPooling1D(pool_size=4), Flatten(),Dense(units=25),\n",
    "                    Dense(units=1),\n",
    "                    Activation('sigmoid')\n",
    "                   ])"
   ]
  },
  {
   "cell_type": "code",
   "execution_count": 70,
   "metadata": {},
   "outputs": [],
   "source": [
    "model_CNN.compile(optimizer=\"adam\", loss=\"binary_crossentropy\", metrics=[\"accuracy\"])"
   ]
  },
  {
   "cell_type": "code",
   "execution_count": 71,
   "metadata": {
    "scrolled": true
   },
   "outputs": [
    {
     "name": "stdout",
     "output_type": "stream",
     "text": [
      "Model: \"sequential_7\"\n",
      "_________________________________________________________________\n",
      "Layer (type)                 Output Shape              Param #   \n",
      "=================================================================\n",
      "conv1d_5 (Conv1D)            (None, 87, 16)            976       \n",
      "_________________________________________________________________\n",
      "max_pooling1d_5 (MaxPooling1 (None, 21, 16)            0         \n",
      "_________________________________________________________________\n",
      "flatten_3 (Flatten)          (None, 336)               0         \n",
      "_________________________________________________________________\n",
      "dense_13 (Dense)             (None, 25)                8425      \n",
      "_________________________________________________________________\n",
      "dense_14 (Dense)             (None, 1)                 26        \n",
      "_________________________________________________________________\n",
      "activation_7 (Activation)    (None, 1)                 0         \n",
      "=================================================================\n",
      "Total params: 9,427\n",
      "Trainable params: 9,427\n",
      "Non-trainable params: 0\n",
      "_________________________________________________________________\n"
     ]
    }
   ],
   "source": [
    "model_CNN.summary()"
   ]
  },
  {
   "cell_type": "code",
   "execution_count": 72,
   "metadata": {},
   "outputs": [],
   "source": [
    "#Modelo híbrido\n",
    "model_hyb = Sequential()\n",
    "model_hyb.add(Conv1D(filters=4,\n",
    "                 kernel_size=5,\n",
    "                 padding='valid',\n",
    "                 activation='relu',\n",
    "                 strides=1, input_shape=x_train.shape[1:]))\n",
    "model_hyb.add(MaxPooling1D(pool_size=4))\n",
    "model_hyb.add(LSTM(units=50))\n",
    "model_hyb.add(Dense(units=25))\n",
    "model_hyb.add(Dense(units=1))\n",
    "model_hyb.add(Activation('sigmoid'))"
   ]
  },
  {
   "cell_type": "code",
   "execution_count": 73,
   "metadata": {},
   "outputs": [],
   "source": [
    "model_hyb.compile(loss='binary_crossentropy',\n",
    "              optimizer='adam',\n",
    "              metrics=['accuracy'])"
   ]
  },
  {
   "cell_type": "code",
   "execution_count": 74,
   "metadata": {},
   "outputs": [
    {
     "name": "stdout",
     "output_type": "stream",
     "text": [
      "Model: \"sequential_8\"\n",
      "_________________________________________________________________\n",
      "Layer (type)                 Output Shape              Param #   \n",
      "=================================================================\n",
      "conv1d_6 (Conv1D)            (None, 97, 4)             84        \n",
      "_________________________________________________________________\n",
      "max_pooling1d_6 (MaxPooling1 (None, 24, 4)             0         \n",
      "_________________________________________________________________\n",
      "lstm_5 (LSTM)                (None, 50)                11000     \n",
      "_________________________________________________________________\n",
      "dense_15 (Dense)             (None, 25)                1275      \n",
      "_________________________________________________________________\n",
      "dense_16 (Dense)             (None, 1)                 26        \n",
      "_________________________________________________________________\n",
      "activation_8 (Activation)    (None, 1)                 0         \n",
      "=================================================================\n",
      "Total params: 12,385\n",
      "Trainable params: 12,385\n",
      "Non-trainable params: 0\n",
      "_________________________________________________________________\n"
     ]
    }
   ],
   "source": [
    "model_hyb.summary()"
   ]
  },
  {
   "cell_type": "code",
   "execution_count": 49,
   "metadata": {},
   "outputs": [],
   "source": [
    "#Modelo LSTM\n",
    "model_LSTM = Sequential()\n",
    "model_LSTM.add(LSTM(units=50, input_shape=x_train.shape[1:]))\n",
    "model_LSTM.add(Dense(units=25))\n",
    "model_LSTM.add(Dense(units=1))\n",
    "model_LSTM.add(Activation('sigmoid'))"
   ]
  },
  {
   "cell_type": "code",
   "execution_count": 50,
   "metadata": {},
   "outputs": [],
   "source": [
    "model_LSTM.compile(loss='binary_crossentropy',\n",
    "              optimizer='adam',\n",
    "              metrics=['accuracy'])"
   ]
  },
  {
   "cell_type": "code",
   "execution_count": 51,
   "metadata": {},
   "outputs": [
    {
     "name": "stdout",
     "output_type": "stream",
     "text": [
      "Model: \"sequential_6\"\n",
      "_________________________________________________________________\n",
      "Layer (type)                 Output Shape              Param #   \n",
      "=================================================================\n",
      "lstm_4 (LSTM)                (None, 50)                11000     \n",
      "_________________________________________________________________\n",
      "dense_11 (Dense)             (None, 25)                1275      \n",
      "_________________________________________________________________\n",
      "dense_12 (Dense)             (None, 1)                 26        \n",
      "_________________________________________________________________\n",
      "activation_6 (Activation)    (None, 1)                 0         \n",
      "=================================================================\n",
      "Total params: 12,301\n",
      "Trainable params: 12,301\n",
      "Non-trainable params: 0\n",
      "_________________________________________________________________\n"
     ]
    }
   ],
   "source": [
    "model_LSTM.summary()"
   ]
  },
  {
   "cell_type": "code",
   "execution_count": 52,
   "metadata": {},
   "outputs": [],
   "source": [
    "from numpy.random import seed\n",
    "seed(1)\n",
    "from tensorflow import set_random_seed\n",
    "set_random_seed(2)"
   ]
  },
  {
   "cell_type": "code",
   "execution_count": 75,
   "metadata": {},
   "outputs": [
    {
     "name": "stdout",
     "output_type": "stream",
     "text": [
      "Train on 321920 samples, validate on 80480 samples\n",
      "Epoch 1/50\n",
      "321920/321920 [==============================] - 29s 91us/step - loss: 0.5922 - accuracy: 0.6744 - val_loss: 0.5444 - val_accuracy: 0.7192\n",
      "Epoch 2/50\n",
      "321920/321920 [==============================] - 29s 90us/step - loss: 0.5323 - accuracy: 0.7275 - val_loss: 0.5281 - val_accuracy: 0.7295\n",
      "Epoch 3/50\n",
      "321920/321920 [==============================] - 29s 90us/step - loss: 0.5133 - accuracy: 0.7405 - val_loss: 0.5072 - val_accuracy: 0.7430\n",
      "Epoch 4/50\n",
      "321920/321920 [==============================] - 29s 90us/step - loss: 0.5026 - accuracy: 0.7466 - val_loss: 0.5032 - val_accuracy: 0.7484\n",
      "Epoch 5/50\n",
      "321920/321920 [==============================] - 29s 90us/step - loss: 0.4986 - accuracy: 0.7494 - val_loss: 0.5015 - val_accuracy: 0.7495\n",
      "Epoch 6/50\n",
      "321920/321920 [==============================] - 29s 90us/step - loss: 0.4963 - accuracy: 0.7511 - val_loss: 0.4967 - val_accuracy: 0.7525\n",
      "Epoch 7/50\n",
      "321920/321920 [==============================] - 29s 90us/step - loss: 0.4944 - accuracy: 0.7524 - val_loss: 0.4962 - val_accuracy: 0.7523\n",
      "Epoch 8/50\n",
      "321920/321920 [==============================] - 29s 90us/step - loss: 0.4933 - accuracy: 0.7532 - val_loss: 0.4939 - val_accuracy: 0.7544\n",
      "Epoch 9/50\n",
      "321920/321920 [==============================] - 29s 90us/step - loss: 0.4921 - accuracy: 0.7537 - val_loss: 0.4942 - val_accuracy: 0.7541\n",
      "Epoch 10/50\n",
      "321920/321920 [==============================] - 29s 91us/step - loss: 0.4910 - accuracy: 0.7549 - val_loss: 0.4942 - val_accuracy: 0.7534\n",
      "Epoch 11/50\n",
      "321920/321920 [==============================] - 29s 91us/step - loss: 0.4909 - accuracy: 0.7548 - val_loss: 0.4924 - val_accuracy: 0.7562\n",
      "Epoch 12/50\n",
      "321920/321920 [==============================] - 30s 92us/step - loss: 0.4895 - accuracy: 0.7562 - val_loss: 0.4924 - val_accuracy: 0.7555\n",
      "Epoch 13/50\n",
      "321920/321920 [==============================] - 29s 89us/step - loss: 0.4884 - accuracy: 0.7567 - val_loss: 0.4926 - val_accuracy: 0.7557\n",
      "Epoch 14/50\n",
      "321920/321920 [==============================] - 29s 89us/step - loss: 0.4876 - accuracy: 0.7574 - val_loss: 0.4894 - val_accuracy: 0.7584\n",
      "Epoch 15/50\n",
      "321920/321920 [==============================] - 29s 89us/step - loss: 0.4866 - accuracy: 0.7578 - val_loss: 0.4893 - val_accuracy: 0.7596\n",
      "Epoch 16/50\n",
      "321920/321920 [==============================] - 29s 89us/step - loss: 0.4848 - accuracy: 0.7589 - val_loss: 0.4887 - val_accuracy: 0.7599\n",
      "Epoch 17/50\n",
      "321920/321920 [==============================] - 29s 91us/step - loss: 0.4834 - accuracy: 0.7604 - val_loss: 0.4852 - val_accuracy: 0.7599\n",
      "Epoch 18/50\n",
      "321920/321920 [==============================] - 29s 89us/step - loss: 0.4825 - accuracy: 0.7608 - val_loss: 0.4860 - val_accuracy: 0.7609\n",
      "Epoch 19/50\n",
      "321920/321920 [==============================] - 29s 91us/step - loss: 0.4821 - accuracy: 0.7619 - val_loss: 0.4850 - val_accuracy: 0.7610\n",
      "Epoch 20/50\n",
      "321920/321920 [==============================] - 29s 90us/step - loss: 0.4812 - accuracy: 0.7617 - val_loss: 0.4843 - val_accuracy: 0.7605\n",
      "Epoch 21/50\n",
      "321920/321920 [==============================] - 27s 85us/step - loss: 0.4809 - accuracy: 0.7625 - val_loss: 0.4916 - val_accuracy: 0.7562\n",
      "Epoch 22/50\n",
      "321920/321920 [==============================] - 27s 83us/step - loss: 0.4809 - accuracy: 0.7620 - val_loss: 0.4835 - val_accuracy: 0.7618\n",
      "Epoch 23/50\n",
      "321920/321920 [==============================] - 27s 83us/step - loss: 0.4810 - accuracy: 0.7622 - val_loss: 0.4910 - val_accuracy: 0.7554\n",
      "Epoch 24/50\n",
      "321920/321920 [==============================] - 27s 84us/step - loss: 0.4805 - accuracy: 0.7625 - val_loss: 0.4852 - val_accuracy: 0.7604\n",
      "Epoch 25/50\n",
      "321920/321920 [==============================] - 29s 90us/step - loss: 0.4802 - accuracy: 0.7630 - val_loss: 0.4826 - val_accuracy: 0.7627\n",
      "Epoch 26/50\n",
      "321920/321920 [==============================] - 29s 89us/step - loss: 0.4801 - accuracy: 0.7626 - val_loss: 0.4827 - val_accuracy: 0.7619\n",
      "Epoch 27/50\n",
      "321920/321920 [==============================] - 29s 91us/step - loss: 0.4798 - accuracy: 0.7625 - val_loss: 0.4828 - val_accuracy: 0.7619\n",
      "Epoch 28/50\n",
      "321920/321920 [==============================] - 29s 90us/step - loss: 0.4800 - accuracy: 0.7626 - val_loss: 0.4822 - val_accuracy: 0.7631\n",
      "Epoch 29/50\n",
      "321920/321920 [==============================] - 29s 90us/step - loss: 0.4798 - accuracy: 0.7631 - val_loss: 0.4827 - val_accuracy: 0.7621\n",
      "Epoch 30/50\n",
      "321920/321920 [==============================] - 29s 90us/step - loss: 0.4797 - accuracy: 0.7630 - val_loss: 0.4827 - val_accuracy: 0.7623\n",
      "Epoch 31/50\n",
      "321920/321920 [==============================] - 29s 90us/step - loss: 0.4793 - accuracy: 0.7635 - val_loss: 0.4829 - val_accuracy: 0.7627\n",
      "Epoch 32/50\n",
      "321920/321920 [==============================] - 29s 89us/step - loss: 0.4793 - accuracy: 0.7632 - val_loss: 0.4827 - val_accuracy: 0.7614\n",
      "Epoch 33/50\n",
      "321920/321920 [==============================] - 29s 90us/step - loss: 0.4792 - accuracy: 0.7638 - val_loss: 0.4861 - val_accuracy: 0.7606\n"
     ]
    }
   ],
   "source": [
    "#prueba inicial modelo CNN\n",
    "history_CNN = model_CNN.fit(x_train, y_train,validation_split=0.2, callbacks=[EarlyStopping(patience=5),\n",
    "                               History()],batch_size=64,epochs=50)"
   ]
  },
  {
   "cell_type": "code",
   "execution_count": 76,
   "metadata": {},
   "outputs": [
    {
     "name": "stdout",
     "output_type": "stream",
     "text": [
      "Train on 321920 samples, validate on 80480 samples\n",
      "Epoch 1/50\n",
      "321920/321920 [==============================] - 150s 467us/step - loss: 0.6572 - accuracy: 0.6042 - val_loss: 0.6386 - val_accuracy: 0.6321\n",
      "Epoch 2/50\n",
      "321920/321920 [==============================] - 151s 471us/step - loss: 0.6330 - accuracy: 0.6389 - val_loss: 0.6245 - val_accuracy: 0.6496\n",
      "Epoch 3/50\n",
      "321920/321920 [==============================] - 150s 465us/step - loss: 0.6245 - accuracy: 0.6480 - val_loss: 0.6180 - val_accuracy: 0.6554\n",
      "Epoch 4/50\n",
      "321920/321920 [==============================] - 150s 467us/step - loss: 0.6194 - accuracy: 0.6533 - val_loss: 0.6131 - val_accuracy: 0.6590\n",
      "Epoch 5/50\n",
      "321920/321920 [==============================] - 151s 469us/step - loss: 0.6158 - accuracy: 0.6571 - val_loss: 0.6100 - val_accuracy: 0.6651\n",
      "Epoch 6/50\n",
      "321920/321920 [==============================] - 151s 468us/step - loss: 0.6115 - accuracy: 0.6615 - val_loss: 0.6074 - val_accuracy: 0.6662\n",
      "Epoch 7/50\n",
      "321920/321920 [==============================] - 150s 467us/step - loss: 0.6077 - accuracy: 0.6653 - val_loss: 0.6075 - val_accuracy: 0.6647\n",
      "Epoch 8/50\n",
      "321920/321920 [==============================] - 150s 467us/step - loss: 0.6036 - accuracy: 0.6690 - val_loss: 0.6017 - val_accuracy: 0.6702\n",
      "Epoch 9/50\n",
      "321920/321920 [==============================] - 151s 469us/step - loss: 0.6003 - accuracy: 0.6720 - val_loss: 0.6078 - val_accuracy: 0.6640\n",
      "Epoch 10/50\n",
      "321920/321920 [==============================] - 150s 465us/step - loss: 0.5968 - accuracy: 0.6756 - val_loss: 0.5970 - val_accuracy: 0.6739\n",
      "Epoch 11/50\n",
      "321920/321920 [==============================] - 149s 464us/step - loss: 0.5936 - accuracy: 0.6782 - val_loss: 0.5957 - val_accuracy: 0.6760\n",
      "Epoch 12/50\n",
      "321920/321920 [==============================] - 150s 467us/step - loss: 0.5904 - accuracy: 0.6811 - val_loss: 0.5933 - val_accuracy: 0.6769\n",
      "Epoch 13/50\n",
      "321920/321920 [==============================] - 150s 467us/step - loss: 0.5875 - accuracy: 0.6839 - val_loss: 0.5948 - val_accuracy: 0.6758\n",
      "Epoch 14/50\n",
      "321920/321920 [==============================] - 150s 464us/step - loss: 0.5848 - accuracy: 0.6851 - val_loss: 0.5881 - val_accuracy: 0.6834\n",
      "Epoch 15/50\n",
      "321920/321920 [==============================] - 150s 466us/step - loss: 0.5824 - accuracy: 0.6884 - val_loss: 0.5863 - val_accuracy: 0.6835\n",
      "Epoch 16/50\n",
      "321920/321920 [==============================] - 150s 466us/step - loss: 0.5797 - accuracy: 0.6900 - val_loss: 0.5862 - val_accuracy: 0.6832\n",
      "Epoch 17/50\n",
      "321920/321920 [==============================] - 150s 467us/step - loss: 0.5779 - accuracy: 0.6914 - val_loss: 0.5863 - val_accuracy: 0.6855\n",
      "Epoch 18/50\n",
      "321920/321920 [==============================] - 151s 468us/step - loss: 0.5758 - accuracy: 0.6940 - val_loss: 0.5832 - val_accuracy: 0.6872\n",
      "Epoch 19/50\n",
      "321920/321920 [==============================] - 150s 467us/step - loss: 0.5737 - accuracy: 0.6958 - val_loss: 0.5894 - val_accuracy: 0.6840\n",
      "Epoch 20/50\n",
      "321920/321920 [==============================] - 150s 467us/step - loss: 0.5722 - accuracy: 0.6966 - val_loss: 0.5890 - val_accuracy: 0.6833\n",
      "Epoch 21/50\n",
      "321920/321920 [==============================] - 151s 470us/step - loss: 0.5701 - accuracy: 0.6985 - val_loss: 0.5822 - val_accuracy: 0.6876\n",
      "Epoch 22/50\n",
      "321920/321920 [==============================] - 146s 454us/step - loss: 0.5683 - accuracy: 0.7001 - val_loss: 0.5841 - val_accuracy: 0.6899\n",
      "Epoch 23/50\n",
      "321920/321920 [==============================] - 149s 461us/step - loss: 0.5672 - accuracy: 0.7001 - val_loss: 0.5858 - val_accuracy: 0.6866\n",
      "Epoch 24/50\n",
      "321920/321920 [==============================] - 150s 465us/step - loss: 0.5656 - accuracy: 0.7013 - val_loss: 0.5824 - val_accuracy: 0.6904\n",
      "Epoch 25/50\n",
      "321920/321920 [==============================] - 150s 465us/step - loss: 0.5642 - accuracy: 0.7033 - val_loss: 0.5883 - val_accuracy: 0.6869\n",
      "Epoch 26/50\n",
      "321920/321920 [==============================] - 151s 468us/step - loss: 0.5628 - accuracy: 0.7047 - val_loss: 0.5890 - val_accuracy: 0.6842\n"
     ]
    }
   ],
   "source": [
    "#prueba inicial modelo híbrido\n",
    "history_HYB = model_hyb.fit(x_train, y_train,validation_split=0.2, callbacks=[EarlyStopping(patience=5),\n",
    "                               History()],batch_size=64,epochs=50)"
   ]
  },
  {
   "cell_type": "code",
   "execution_count": 57,
   "metadata": {},
   "outputs": [
    {
     "name": "stdout",
     "output_type": "stream",
     "text": [
      "Train on 321920 samples, validate on 80480 samples\n",
      "Epoch 1/50\n",
      "321920/321920 [==============================] - 433s 1ms/step - loss: 0.6884 - accuracy: 0.5375 - val_loss: 0.6858 - val_accuracy: 0.5482\n",
      "Epoch 2/50\n",
      "321920/321920 [==============================] - 419s 1ms/step - loss: 0.6874 - accuracy: 0.5404 - val_loss: 0.6792 - val_accuracy: 0.5681\n",
      "Epoch 3/50\n",
      "321920/321920 [==============================] - 439s 1ms/step - loss: 0.6653 - accuracy: 0.5930 - val_loss: 0.6567 - val_accuracy: 0.6119\n",
      "Epoch 4/50\n",
      "321920/321920 [==============================] - 437s 1ms/step - loss: 0.6027 - accuracy: 0.6700 - val_loss: 0.5578 - val_accuracy: 0.7109\n",
      "Epoch 5/50\n",
      "321920/321920 [==============================] - 436s 1ms/step - loss: 0.5407 - accuracy: 0.7227 - val_loss: 0.5145 - val_accuracy: 0.7418\n",
      "Epoch 6/50\n",
      "321920/321920 [==============================] - 436s 1ms/step - loss: 0.5007 - accuracy: 0.7503 - val_loss: 0.4890 - val_accuracy: 0.7602\n",
      "Epoch 7/50\n",
      "321920/321920 [==============================] - 433s 1ms/step - loss: 0.4722 - accuracy: 0.7691 - val_loss: 0.4615 - val_accuracy: 0.7757\n",
      "Epoch 8/50\n",
      "321920/321920 [==============================] - 434s 1ms/step - loss: 0.4531 - accuracy: 0.7816 - val_loss: 0.4498 - val_accuracy: 0.7843\n",
      "Epoch 9/50\n",
      "321920/321920 [==============================] - 446s 1ms/step - loss: 0.4380 - accuracy: 0.7908 - val_loss: 0.4445 - val_accuracy: 0.7859\n",
      "Epoch 10/50\n",
      "321920/321920 [==============================] - 412s 1ms/step - loss: 0.4278 - accuracy: 0.7980 - val_loss: 0.4319 - val_accuracy: 0.7954\n",
      "Epoch 11/50\n",
      "321920/321920 [==============================] - 447s 1ms/step - loss: 0.4199 - accuracy: 0.8021 - val_loss: 0.4217 - val_accuracy: 0.8035\n",
      "Epoch 12/50\n",
      "321920/321920 [==============================] - 445s 1ms/step - loss: 0.4123 - accuracy: 0.8068 - val_loss: 0.4237 - val_accuracy: 0.8009\n",
      "Epoch 13/50\n",
      "321920/321920 [==============================] - 445s 1ms/step - loss: 0.4067 - accuracy: 0.8104 - val_loss: 0.4162 - val_accuracy: 0.8066\n",
      "Epoch 14/50\n",
      "321920/321920 [==============================] - 441s 1ms/step - loss: 0.4016 - accuracy: 0.8133 - val_loss: 0.4131 - val_accuracy: 0.8074\n",
      "Epoch 15/50\n",
      "321920/321920 [==============================] - 446s 1ms/step - loss: 0.3971 - accuracy: 0.8161 - val_loss: 0.4136 - val_accuracy: 0.8074\n",
      "Epoch 16/50\n",
      "321920/321920 [==============================] - 436s 1ms/step - loss: 0.3921 - accuracy: 0.8196 - val_loss: 0.4089 - val_accuracy: 0.8087\n",
      "Epoch 17/50\n",
      "321920/321920 [==============================] - 441s 1ms/step - loss: 0.3881 - accuracy: 0.8217 - val_loss: 0.4109 - val_accuracy: 0.8097\n",
      "Epoch 18/50\n",
      "321920/321920 [==============================] - 421s 1ms/step - loss: 0.3843 - accuracy: 0.8242 - val_loss: 0.4002 - val_accuracy: 0.8151\n",
      "Epoch 19/50\n",
      "321920/321920 [==============================] - 437s 1ms/step - loss: 0.3808 - accuracy: 0.8264 - val_loss: 0.3993 - val_accuracy: 0.8163\n",
      "Epoch 20/50\n",
      "321920/321920 [==============================] - 442s 1ms/step - loss: 0.3775 - accuracy: 0.8283 - val_loss: 0.3959 - val_accuracy: 0.8170\n",
      "Epoch 21/50\n",
      "321920/321920 [==============================] - 438s 1ms/step - loss: 0.3740 - accuracy: 0.8300 - val_loss: 0.3950 - val_accuracy: 0.8184\n",
      "Epoch 22/50\n",
      "321920/321920 [==============================] - 412s 1ms/step - loss: 0.3715 - accuracy: 0.8317 - val_loss: 0.3940 - val_accuracy: 0.8204\n",
      "Epoch 23/50\n",
      "321920/321920 [==============================] - 390s 1ms/step - loss: 0.3684 - accuracy: 0.8340 - val_loss: 0.3982 - val_accuracy: 0.8189\n",
      "Epoch 24/50\n",
      "321920/321920 [==============================] - 392s 1ms/step - loss: 0.3664 - accuracy: 0.8348 - val_loss: 0.3930 - val_accuracy: 0.8197\n",
      "Epoch 25/50\n",
      "321920/321920 [==============================] - 391s 1ms/step - loss: 0.3636 - accuracy: 0.8364 - val_loss: 0.4034 - val_accuracy: 0.8187\n",
      "Epoch 26/50\n",
      "321920/321920 [==============================] - 391s 1ms/step - loss: 0.3621 - accuracy: 0.8375 - val_loss: 0.3998 - val_accuracy: 0.8154\n",
      "Epoch 27/50\n",
      "321920/321920 [==============================] - 384s 1ms/step - loss: 0.3601 - accuracy: 0.8385 - val_loss: 0.3943 - val_accuracy: 0.8228\n",
      "Epoch 28/50\n",
      "321920/321920 [==============================] - 392s 1ms/step - loss: 0.3580 - accuracy: 0.8405 - val_loss: 0.3907 - val_accuracy: 0.8229\n",
      "Epoch 29/50\n",
      "321920/321920 [==============================] - 391s 1ms/step - loss: 0.3562 - accuracy: 0.8408 - val_loss: 0.3908 - val_accuracy: 0.8244\n",
      "Epoch 30/50\n",
      "321920/321920 [==============================] - 392s 1ms/step - loss: 0.3548 - accuracy: 0.8417 - val_loss: 0.3915 - val_accuracy: 0.8219\n",
      "Epoch 31/50\n",
      "321920/321920 [==============================] - 391s 1ms/step - loss: 0.3531 - accuracy: 0.8429 - val_loss: 0.3873 - val_accuracy: 0.8241\n",
      "Epoch 32/50\n",
      "321920/321920 [==============================] - 388s 1ms/step - loss: 0.3516 - accuracy: 0.8433 - val_loss: 0.3947 - val_accuracy: 0.8231\n",
      "Epoch 33/50\n",
      "321920/321920 [==============================] - 389s 1ms/step - loss: 0.3502 - accuracy: 0.8440 - val_loss: 0.3872 - val_accuracy: 0.8268\n",
      "Epoch 34/50\n",
      "321920/321920 [==============================] - 392s 1ms/step - loss: 0.3487 - accuracy: 0.8457 - val_loss: 0.3880 - val_accuracy: 0.8243\n",
      "Epoch 35/50\n",
      "321920/321920 [==============================] - 391s 1ms/step - loss: 0.3476 - accuracy: 0.8459 - val_loss: 0.3875 - val_accuracy: 0.8256\n",
      "Epoch 36/50\n",
      "321920/321920 [==============================] - 387s 1ms/step - loss: 0.3463 - accuracy: 0.8462 - val_loss: 0.3832 - val_accuracy: 0.8273\n",
      "Epoch 37/50\n",
      "321920/321920 [==============================] - 391s 1ms/step - loss: 0.3450 - accuracy: 0.8473 - val_loss: 0.3880 - val_accuracy: 0.8251\n",
      "Epoch 38/50\n",
      "321920/321920 [==============================] - 391s 1ms/step - loss: 0.3441 - accuracy: 0.8479 - val_loss: 0.3864 - val_accuracy: 0.8270\n",
      "Epoch 39/50\n",
      "321920/321920 [==============================] - 391s 1ms/step - loss: 0.3425 - accuracy: 0.8492 - val_loss: 0.3873 - val_accuracy: 0.8291\n",
      "Epoch 40/50\n",
      "321920/321920 [==============================] - 392s 1ms/step - loss: 0.3418 - accuracy: 0.8494 - val_loss: 0.3858 - val_accuracy: 0.8275\n",
      "Epoch 41/50\n",
      "321920/321920 [==============================] - 383s 1ms/step - loss: 0.3408 - accuracy: 0.8498 - val_loss: 0.3811 - val_accuracy: 0.8294\n",
      "Epoch 42/50\n",
      "321920/321920 [==============================] - 392s 1ms/step - loss: 0.3402 - accuracy: 0.8499 - val_loss: 0.3819 - val_accuracy: 0.8294\n",
      "Epoch 43/50\n",
      "321920/321920 [==============================] - 391s 1ms/step - loss: 0.3394 - accuracy: 0.8508 - val_loss: 0.3816 - val_accuracy: 0.8298\n",
      "Epoch 44/50\n",
      "321920/321920 [==============================] - 392s 1ms/step - loss: 0.3380 - accuracy: 0.8511 - val_loss: 0.3873 - val_accuracy: 0.8293\n",
      "Epoch 45/50\n",
      "321920/321920 [==============================] - 391s 1ms/step - loss: 0.3375 - accuracy: 0.8517 - val_loss: 0.3890 - val_accuracy: 0.8260\n",
      "Epoch 46/50\n",
      "321920/321920 [==============================] - 385s 1ms/step - loss: 0.3364 - accuracy: 0.8523 - val_loss: 0.4000 - val_accuracy: 0.8235\n"
     ]
    }
   ],
   "source": [
    "#prueba inicial modelo LSTM\n",
    "history = model_LSTM.fit(x_train, y_train,validation_split=0.2, callbacks=[EarlyStopping(patience=5),\n",
    "                               History()],batch_size=64,epochs=50)"
   ]
  },
  {
   "cell_type": "code",
   "execution_count": 60,
   "metadata": {},
   "outputs": [],
   "source": [
    "def evaluate(model, x, y):\n",
    "    \n",
    "    keras_metrics = {name: metric \n",
    "                     for name, metric in zip(model.metrics_names, \n",
    "                                             model.evaluate(x, y, verbose=0))}\n",
    "    y_pred = model.predict(x)\n",
    "    \n",
    "    return {**keras_metrics}"
   ]
  },
  {
   "cell_type": "code",
   "execution_count": 77,
   "metadata": {},
   "outputs": [
    {
     "data": {
      "text/plain": [
       "{'accuracy': 0.7588767409324646, 'loss': 0.484703387467572}"
      ]
     },
     "execution_count": 77,
     "metadata": {},
     "output_type": "execute_result"
    }
   ],
   "source": [
    "evaluate(model_CNN, x_test, y_test)"
   ]
  },
  {
   "cell_type": "code",
   "execution_count": 78,
   "metadata": {},
   "outputs": [
    {
     "data": {
      "text/plain": [
       "{'accuracy': 0.6853876709938049, 'loss': 0.5888005729840242}"
      ]
     },
     "execution_count": 78,
     "metadata": {},
     "output_type": "execute_result"
    }
   ],
   "source": [
    "evaluate(model_hyb, x_test, y_test)"
   ]
  },
  {
   "cell_type": "code",
   "execution_count": 64,
   "metadata": {},
   "outputs": [
    {
     "data": {
      "text/plain": [
       "{'accuracy': 0.8233698010444641, 'loss': 0.4011606156162429}"
      ]
     },
     "execution_count": 64,
     "metadata": {},
     "output_type": "execute_result"
    }
   ],
   "source": [
    "evaluate(model_LSTM, x_test, y_test)"
   ]
  },
  {
   "cell_type": "code",
   "execution_count": 67,
   "metadata": {},
   "outputs": [
    {
     "data": {
      "text/plain": [
       "dict_keys(['val_loss', 'val_accuracy', 'loss', 'accuracy'])"
      ]
     },
     "execution_count": 67,
     "metadata": {},
     "output_type": "execute_result"
    }
   ],
   "source": [
    "history.history.keys()"
   ]
  },
  {
   "cell_type": "code",
   "execution_count": 79,
   "metadata": {},
   "outputs": [
    {
     "data": {
      "image/png": "[encoded data removed]",
      "text/plain": [
       "<Figure size 432x288 with 1 Axes>"
      ]
     },
     "metadata": {},
     "output_type": "display_data"
    }
   ],
   "source": [
    "#historial modelo LSTM\n",
    "plt.plot(history.history['accuracy'])\n",
    "plt.plot(history.history['val_accuracy'])\n",
    "plt.title('Modelo LSTM')\n",
    "plt.ylabel('accuracy')\n",
    "plt.xlabel('epoch')\n",
    "plt.legend(['entrenamiento', 'prueba'], loc='upper left')\n",
    "plt.show()"
   ]
  },
  {
   "cell_type": "code",
   "execution_count": 81,
   "metadata": {},
   "outputs": [
    {
     "data": {
      "image/png": "[encoded data removed]",
      "text/plain": [
       "<Figure size 432x288 with 1 Axes>"
      ]
     },
     "metadata": {},
     "output_type": "display_data"
    }
   ],
   "source": [
    "#historial modelo CNN\n",
    "plt.plot(history_CNN.history['accuracy'])\n",
    "plt.plot(history_CNN.history['val_accuracy'])\n",
    "plt.title('Modelo CNN')\n",
    "plt.ylabel('accuracy')\n",
    "plt.xlabel('epoch')\n",
    "plt.legend(['entrenamiento', 'prueba'], loc='upper left')\n",
    "plt.show()"
   ]
  },
  {
   "cell_type": "code",
   "execution_count": 84,
   "metadata": {},
   "outputs": [
    {
     "data": {
      "image/png": "[encoded data removed]",
      "text/plain": [
       "<Figure size 432x288 with 1 Axes>"
      ]
     },
     "metadata": {},
     "output_type": "display_data"
    }
   ],
   "source": [
    "#historial modelo Hybrid\n",
    "plt.plot(history_HIB.history['accuracy'])\n",
    "plt.plot(history_HIB.history['val_accuracy'])\n",
    "plt.title('Modelo Híbrido')\n",
    "plt.ylabel('accuracy')\n",
    "plt.xlabel('epoch')\n",
    "plt.legend(['entrenamiento', 'prueba'], loc='upper left')\n",
    "plt.show()"
   ]
  },
  {
   "cell_type": "code",
   "execution_count": null,
   "metadata": {},
   "outputs": [],
   "source": []
  }
 ],
 "metadata": {
  "kernelspec": {
   "display_name": "Python 3",
   "language": "python",
   "name": "python3"
  },
  "language_info": {
   "codemirror_mode": {
    "name": "ipython",
    "version": 3
   },
   "file_extension": ".py",
   "mimetype": "text/x-python",
   "name": "python",
   "nbconvert_exporter": "python",
   "pygments_lexer": "ipython3",
   "version": "3.6.9"
  }
 },
 "nbformat": 4,
 "nbformat_minor": 2
}
